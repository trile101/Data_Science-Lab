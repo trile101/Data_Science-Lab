{
 "cells": [
  {
   "cell_type": "code",
   "execution_count": 132,
   "id": "8e88f000",
   "metadata": {},
   "outputs": [],
   "source": [
    "import numpy as np\n",
    "import pandas as pd\n",
    "import math"
   ]
  },
  {
   "cell_type": "markdown",
   "id": "d2937143",
   "metadata": {},
   "source": [
    "### 1. Kiểm tra tổng quan về tập dữ liệu"
   ]
  },
  {
   "cell_type": "code",
   "execution_count": 133,
   "id": "9c441ac1",
   "metadata": {},
   "outputs": [
    {
     "data": {
      "text/plain": [
       "(3136, 22)"
      ]
     },
     "execution_count": 133,
     "metadata": {},
     "output_type": "execute_result"
    }
   ],
   "source": [
    "data_covid = pd.read_csv(\"Data\\Covid.csv\")\n",
    "data_covid.shape"
   ]
  },
  {
   "cell_type": "markdown",
   "id": "286b7a5a",
   "metadata": {},
   "source": [
    "Dữ liệu được thu thập từ ngày ```29/11/2021``` đến ```5/12/2021```, Tập dữ liệu data covid có 1568 mẫu và 22 thuộc tính, "
   ]
  },
  {
   "cell_type": "markdown",
   "id": "dae6c65a",
   "metadata": {},
   "source": [
    "#### Tóm tắt thông tin về các thuộc tính có trong dữ liệu "
   ]
  },
  {
   "cell_type": "markdown",
   "id": "6c29f7a9",
   "metadata": {},
   "source": [
    "\n",
    "|Thuộc tính|Kiểu dữ liệu|     Ý nghĩa   \n",
    "|:--------:|:-------------:|:-----:\n",
    "|**Date**|Chuỗi |Ngày của thông tin|\n",
    "|**Country,Other**|Chuỗi|Đất nước lấy thông tin|\n",
    "|**TotalCases**|Số nguyên|Số lượng toàn bộ người bị nhiễm|\n",
    "|**NewCases**|Số nguyên|Số lượng ca nhiễm mới trong ngày|\n",
    "|**TotalDeaths**|Số nguyên|Tổng số lượng ca tử vong do Covid-19|\n",
    "|**NewDeaths**|Số nguyên|Số lượng ca tử vong được phát hiện trong ngày|\n",
    "|**TotalRecovered**|Số nguyên|Tổng số lượng ca hồi phục khi bị nhiễm Covid-19|\n",
    "|**NewRecovered**|Số nguyên|Số lượng ca phục hồi trong ngày|\n",
    "|**ActiveCases**|Số nguyên|Số lượng người bị nhiễm và chưa khỏi bệnh|   \n",
    "|**Serious,Critical**|Số nguyên|Số lượng ca nhiễm Covid-19 đang trong nguy kịch|   \n",
    "|**Tot Cases/1M pop**|Số nguyên|Tổng số ca được xác nhận nhiễm trên 1 triệu dân số|\n",
    "|**Deaths/1M pop**|Số nguyên|Tổng số ca tư vong trên 1 triệu dân số|\n",
    "|**TotalTests**|Số nguyên|Tổng số lượng được xác nghiệm Covid-19|\n",
    "|**Tests/1M pop**|Số nguyên|Tổng số lượng được xác nghiệm Covid-19 trên 1 triệu dân số|   \n",
    "|**Population**|Số nguyên|Tổng số dân số của đất nước|   \n",
    "|**Continent**|Chuỗi|Tên châu lục|\n",
    "|**1Case every X ppl**|Số nguyên|     \n",
    "|**1Death every X ppl**|Số nguyên|       \n",
    "|**1 Testevery X ppl**|Số nguyên||   \n",
    "|**New Cases/1M pop**|Số nguyên|Tổng số lượng được ca nhiễm Covid-19 mới trên 1 triệu dân số| \n",
    "|**New Deaths/1M pop**|Số nguyên|Tổng số lượng được ca tử vong mới trên 1 triệu dân số| \n",
    "|**Active Cases/1M pop**|Số nguyên|Tổng số lương ca nhiễm chưa khỏi bệnh trên 1 triệu dân số|"
   ]
  },
  {
   "cell_type": "markdown",
   "id": "34a24367",
   "metadata": {},
   "source": [
    "#### Kiểm tra số lượng nước và châu lục"
   ]
  },
  {
   "cell_type": "code",
   "execution_count": 134,
   "id": "f9bb6ecb",
   "metadata": {},
   "outputs": [
    {
     "name": "stdout",
     "output_type": "stream",
     "text": [
      "Số lượng quốc gia và tàu: 224\n",
      "\n",
      "[nan 'USA' 'India' 'Brazil' 'UK' 'Russia' 'Turkey' 'France' 'Iran'\n",
      " 'Germany' 'Argentina' 'Spain' 'Colombia' 'Italy' 'Indonesia' 'Mexico'\n",
      " 'Poland' 'Ukraine' 'South Africa' 'Philippines' 'Netherlands' 'Malaysia'\n",
      " 'Peru' 'Czechia' 'Thailand' 'Iraq' 'Canada' 'Romania' 'Belgium' 'Chile'\n",
      " 'Japan' 'Bangladesh' 'Israel' 'Pakistan' 'Serbia' 'Vietnam' 'Sweden'\n",
      " 'Austria' 'Portugal' 'Hungary' 'Switzerland' 'Kazakhstan' 'Cuba' 'Jordan'\n",
      " 'Morocco' 'Greece' 'Georgia' 'Nepal' 'UAE' 'Tunisia' 'Bulgaria'\n",
      " 'Slovakia' 'Lebanon' 'Belarus' 'Guatemala' 'Croatia' 'Azerbaijan'\n",
      " 'Ireland' 'Costa Rica' 'Sri Lanka' 'Saudi Arabia' 'Bolivia' 'Ecuador'\n",
      " 'Myanmar' 'Denmark' 'Panama' 'Lithuania' 'Paraguay' 'S. Korea'\n",
      " 'Venezuela' 'Palestine' 'Slovenia' 'Kuwait' 'Dominican Republic'\n",
      " 'Uruguay' 'Mongolia' 'Honduras' 'Libya' 'Ethiopia' 'Moldova' 'Egypt'\n",
      " 'Armenia' 'Oman' 'Bahrain' 'Bosnia and Herzegovina' 'Norway' 'Singapore'\n",
      " 'Kenya' 'Latvia' 'Qatar' 'Estonia' 'North Macedonia' 'Nigeria'\n",
      " 'Australia' 'Algeria' 'Zambia' 'Albania' 'Botswana' 'Uzbekistan'\n",
      " 'Finland' 'Kyrgyzstan' 'Montenegro' 'Afghanistan' 'Mozambique' 'Zimbabwe'\n",
      " 'Cyprus' 'Ghana' 'Namibia' 'Uganda' 'Cambodia' 'El Salvador' 'Cameroon'\n",
      " 'Rwanda' 'Maldives' 'Jamaica' 'Luxembourg' 'Senegal' 'Laos'\n",
      " 'Trinidad and Tobago' 'Angola' 'Malawi' 'Ivory Coast' 'R?nion' 'DRC'\n",
      " 'Guadeloupe' 'Fiji' 'Suriname' 'Syria' 'Eswatini' 'French Guiana'\n",
      " 'French Polynesia' 'Martinique' 'Madagascar' 'Sudan' 'Malta' 'Mauritania'\n",
      " 'Cabo Verde' 'Guyana' 'Gabon' 'Papua New Guinea' 'Guinea' 'Belize'\n",
      " 'Tanzania' 'Togo' 'Barbados' 'Haiti' 'Benin' 'Seychelles' 'Somalia'\n",
      " 'Bahamas' 'Lesotho' 'Mauritius' 'Mayotte' 'Burundi' 'Timor-Leste' 'Congo'\n",
      " 'Channel Islands' 'Iceland' 'Mali' 'Cura?o' 'Nicaragua' 'Andorra'\n",
      " 'Tajikistan' 'Taiwan' 'Aruba' 'Burkina Faso' 'Brunei '\n",
      " 'Equatorial Guinea' 'Djibouti' 'Saint Lucia' 'South Sudan' 'Hong Kong'\n",
      " 'New Caledonia' 'New Zealand' 'CAR' 'Isle of Man' 'Yemen' 'Gambia'\n",
      " 'Eritrea' 'Gibraltar' 'Cayman Islands' 'Niger' 'Guinea-Bissau'\n",
      " 'Sierra Leone' 'Dominica' 'San Marino' 'Grenada' 'Liberia' 'Bermuda'\n",
      " 'St. Vincent Grenadines' 'Chad' 'Liechtenstein' 'Sint Maarten' 'Comoros'\n",
      " 'Antigua and Barbuda' 'Saint Martin' 'Monaco' 'Sao Tome and Principe'\n",
      " 'Faeroe Islands' 'Turks and Caicos' 'Caribbean Netherlands'\n",
      " 'Saint Kitts and Nevis' 'British Virgin Islands' 'Bhutan' 'St. Barth'\n",
      " 'Greenland' 'Anguilla' 'Diamond Princess' 'Wallis and Futuna'\n",
      " 'Falkland Islands' 'Macao' 'Saint Pierre Miquelon' 'Montserrat'\n",
      " 'Vatican City' 'Solomon Islands' 'Western Sahara' 'MS Zaandam' 'Palau'\n",
      " 'Vanuatu' 'Marshall Islands' 'Samoa' 'Saint Helena' 'Micronesia' 'Tonga'\n",
      " 'China']\n"
     ]
    }
   ],
   "source": [
    "print(f\"Số lượng quốc gia và tàu: {data_covid['Country,Other'].nunique()}\\n\")\n",
    "print(data_covid['Country,Other'].unique())"
   ]
  },
  {
   "cell_type": "code",
   "execution_count": 135,
   "id": "da8e9cd2",
   "metadata": {},
   "outputs": [
    {
     "name": "stdout",
     "output_type": "stream",
     "text": [
      "Số lượng châu lục: 6\n",
      "\n",
      "[nan 'North America' 'Asia' 'South America' 'Europe' 'Africa'\n",
      " 'Australia/Oceania']\n"
     ]
    }
   ],
   "source": [
    "print(f\"Số lượng châu lục: {data_covid['Continent'].nunique()}\\n\")\n",
    "print(data_covid['Continent'].unique())"
   ]
  },
  {
   "cell_type": "markdown",
   "id": "7295d121",
   "metadata": {},
   "source": [
    "### 2. Tiền xử lí dữ liệu"
   ]
  },
  {
   "cell_type": "code",
   "execution_count": 136,
   "id": "f2c296d5",
   "metadata": {
    "scrolled": true
   },
   "outputs": [
    {
     "data": {
      "text/html": [
       "<div>\n",
       "<style scoped>\n",
       "    .dataframe tbody tr th:only-of-type {\n",
       "        vertical-align: middle;\n",
       "    }\n",
       "\n",
       "    .dataframe tbody tr th {\n",
       "        vertical-align: top;\n",
       "    }\n",
       "\n",
       "    .dataframe thead th {\n",
       "        text-align: right;\n",
       "    }\n",
       "</style>\n",
       "<table border=\"1\" class=\"dataframe\">\n",
       "  <thead>\n",
       "    <tr style=\"text-align: right;\">\n",
       "      <th></th>\n",
       "      <th>Date</th>\n",
       "      <th>Country,Other</th>\n",
       "      <th>TotalCases</th>\n",
       "      <th>NewCases</th>\n",
       "      <th>TotalDeaths</th>\n",
       "      <th>NewDeaths</th>\n",
       "      <th>TotalRecovered</th>\n",
       "      <th>NewRecovered</th>\n",
       "      <th>ActiveCases</th>\n",
       "      <th>Serious,Critical</th>\n",
       "      <th>...</th>\n",
       "      <th>TotalTests</th>\n",
       "      <th>Tests/1M pop</th>\n",
       "      <th>Population</th>\n",
       "      <th>Continent</th>\n",
       "      <th>1 Caseevery X ppl</th>\n",
       "      <th>1 Deathevery X ppl</th>\n",
       "      <th>1 Testevery X ppl</th>\n",
       "      <th>New Cases/1M pop</th>\n",
       "      <th>New Deaths/1M pop</th>\n",
       "      <th>Active Cases/1M pop</th>\n",
       "    </tr>\n",
       "  </thead>\n",
       "  <tbody>\n",
       "    <tr>\n",
       "      <th>0</th>\n",
       "      <td>NaN</td>\n",
       "      <td>NaN</td>\n",
       "      <td>NaN</td>\n",
       "      <td>NaN</td>\n",
       "      <td>NaN</td>\n",
       "      <td>NaN</td>\n",
       "      <td>NaN</td>\n",
       "      <td>NaN</td>\n",
       "      <td>NaN</td>\n",
       "      <td>NaN</td>\n",
       "      <td>...</td>\n",
       "      <td>NaN</td>\n",
       "      <td>NaN</td>\n",
       "      <td>NaN</td>\n",
       "      <td>NaN</td>\n",
       "      <td>NaN</td>\n",
       "      <td>NaN</td>\n",
       "      <td>NaN</td>\n",
       "      <td>NaN</td>\n",
       "      <td>NaN</td>\n",
       "      <td>NaN</td>\n",
       "    </tr>\n",
       "    <tr>\n",
       "      <th>1</th>\n",
       "      <td>12/1/2021</td>\n",
       "      <td>USA</td>\n",
       "      <td>49,428,913</td>\n",
       "      <td>NaN</td>\n",
       "      <td>803,045</td>\n",
       "      <td>NaN</td>\n",
       "      <td>39,205,902</td>\n",
       "      <td>NaN</td>\n",
       "      <td>9,419,966</td>\n",
       "      <td>13,201</td>\n",
       "      <td>...</td>\n",
       "      <td>753,993,369</td>\n",
       "      <td>2,259,195</td>\n",
       "      <td>333,744,223</td>\n",
       "      <td>North America</td>\n",
       "      <td>7</td>\n",
       "      <td>416</td>\n",
       "      <td>0.0</td>\n",
       "      <td>NaN</td>\n",
       "      <td>NaN</td>\n",
       "      <td>28,225</td>\n",
       "    </tr>\n",
       "    <tr>\n",
       "      <th>2</th>\n",
       "      <td>NaN</td>\n",
       "      <td>NaN</td>\n",
       "      <td>NaN</td>\n",
       "      <td>NaN</td>\n",
       "      <td>NaN</td>\n",
       "      <td>NaN</td>\n",
       "      <td>NaN</td>\n",
       "      <td>NaN</td>\n",
       "      <td>NaN</td>\n",
       "      <td>NaN</td>\n",
       "      <td>...</td>\n",
       "      <td>NaN</td>\n",
       "      <td>NaN</td>\n",
       "      <td>NaN</td>\n",
       "      <td>NaN</td>\n",
       "      <td>NaN</td>\n",
       "      <td>NaN</td>\n",
       "      <td>NaN</td>\n",
       "      <td>NaN</td>\n",
       "      <td>NaN</td>\n",
       "      <td>NaN</td>\n",
       "    </tr>\n",
       "    <tr>\n",
       "      <th>3</th>\n",
       "      <td>12/1/2021</td>\n",
       "      <td>India</td>\n",
       "      <td>34,596,776</td>\n",
       "      <td>NaN</td>\n",
       "      <td>469,247</td>\n",
       "      <td>NaN</td>\n",
       "      <td>34,028,506</td>\n",
       "      <td>10,207</td>\n",
       "      <td>99,023</td>\n",
       "      <td>8,944</td>\n",
       "      <td>...</td>\n",
       "      <td>642,412,315</td>\n",
       "      <td>459,141</td>\n",
       "      <td>1,399,161,383</td>\n",
       "      <td>Asia</td>\n",
       "      <td>40</td>\n",
       "      <td>2,982</td>\n",
       "      <td>2.0</td>\n",
       "      <td>NaN</td>\n",
       "      <td>NaN</td>\n",
       "      <td>71</td>\n",
       "    </tr>\n",
       "    <tr>\n",
       "      <th>4</th>\n",
       "      <td>NaN</td>\n",
       "      <td>NaN</td>\n",
       "      <td>NaN</td>\n",
       "      <td>NaN</td>\n",
       "      <td>NaN</td>\n",
       "      <td>NaN</td>\n",
       "      <td>NaN</td>\n",
       "      <td>NaN</td>\n",
       "      <td>NaN</td>\n",
       "      <td>NaN</td>\n",
       "      <td>...</td>\n",
       "      <td>NaN</td>\n",
       "      <td>NaN</td>\n",
       "      <td>NaN</td>\n",
       "      <td>NaN</td>\n",
       "      <td>NaN</td>\n",
       "      <td>NaN</td>\n",
       "      <td>NaN</td>\n",
       "      <td>NaN</td>\n",
       "      <td>NaN</td>\n",
       "      <td>NaN</td>\n",
       "    </tr>\n",
       "    <tr>\n",
       "      <th>...</th>\n",
       "      <td>...</td>\n",
       "      <td>...</td>\n",
       "      <td>...</td>\n",
       "      <td>...</td>\n",
       "      <td>...</td>\n",
       "      <td>...</td>\n",
       "      <td>...</td>\n",
       "      <td>...</td>\n",
       "      <td>...</td>\n",
       "      <td>...</td>\n",
       "      <td>...</td>\n",
       "      <td>...</td>\n",
       "      <td>...</td>\n",
       "      <td>...</td>\n",
       "      <td>...</td>\n",
       "      <td>...</td>\n",
       "      <td>...</td>\n",
       "      <td>...</td>\n",
       "      <td>...</td>\n",
       "      <td>...</td>\n",
       "      <td>...</td>\n",
       "    </tr>\n",
       "    <tr>\n",
       "      <th>125</th>\n",
       "      <td>12/1/2021</td>\n",
       "      <td>Myanmar</td>\n",
       "      <td>522,402</td>\n",
       "      <td>NaN</td>\n",
       "      <td>19,104</td>\n",
       "      <td>NaN</td>\n",
       "      <td>497,249</td>\n",
       "      <td>NaN</td>\n",
       "      <td>6,049</td>\n",
       "      <td>NaN</td>\n",
       "      <td>...</td>\n",
       "      <td>5,583,908</td>\n",
       "      <td>101,664</td>\n",
       "      <td>54,924,965</td>\n",
       "      <td>Asia</td>\n",
       "      <td>105</td>\n",
       "      <td>2,875</td>\n",
       "      <td>10.0</td>\n",
       "      <td>NaN</td>\n",
       "      <td>NaN</td>\n",
       "      <td>110</td>\n",
       "    </tr>\n",
       "    <tr>\n",
       "      <th>126</th>\n",
       "      <td>NaN</td>\n",
       "      <td>NaN</td>\n",
       "      <td>NaN</td>\n",
       "      <td>NaN</td>\n",
       "      <td>NaN</td>\n",
       "      <td>NaN</td>\n",
       "      <td>NaN</td>\n",
       "      <td>NaN</td>\n",
       "      <td>NaN</td>\n",
       "      <td>NaN</td>\n",
       "      <td>...</td>\n",
       "      <td>NaN</td>\n",
       "      <td>NaN</td>\n",
       "      <td>NaN</td>\n",
       "      <td>NaN</td>\n",
       "      <td>NaN</td>\n",
       "      <td>NaN</td>\n",
       "      <td>NaN</td>\n",
       "      <td>NaN</td>\n",
       "      <td>NaN</td>\n",
       "      <td>NaN</td>\n",
       "    </tr>\n",
       "    <tr>\n",
       "      <th>127</th>\n",
       "      <td>12/1/2021</td>\n",
       "      <td>Denmark</td>\n",
       "      <td>487,401</td>\n",
       "      <td>NaN</td>\n",
       "      <td>2,895</td>\n",
       "      <td>NaN</td>\n",
       "      <td>403,118</td>\n",
       "      <td>NaN</td>\n",
       "      <td>81,388</td>\n",
       "      <td>60</td>\n",
       "      <td>...</td>\n",
       "      <td>93,815,873</td>\n",
       "      <td>16,116,747</td>\n",
       "      <td>5,821,018</td>\n",
       "      <td>Europe</td>\n",
       "      <td>12</td>\n",
       "      <td>2,011</td>\n",
       "      <td>0.0</td>\n",
       "      <td>NaN</td>\n",
       "      <td>NaN</td>\n",
       "      <td>13,982</td>\n",
       "    </tr>\n",
       "    <tr>\n",
       "      <th>128</th>\n",
       "      <td>NaN</td>\n",
       "      <td>NaN</td>\n",
       "      <td>NaN</td>\n",
       "      <td>NaN</td>\n",
       "      <td>NaN</td>\n",
       "      <td>NaN</td>\n",
       "      <td>NaN</td>\n",
       "      <td>NaN</td>\n",
       "      <td>NaN</td>\n",
       "      <td>NaN</td>\n",
       "      <td>...</td>\n",
       "      <td>NaN</td>\n",
       "      <td>NaN</td>\n",
       "      <td>NaN</td>\n",
       "      <td>NaN</td>\n",
       "      <td>NaN</td>\n",
       "      <td>NaN</td>\n",
       "      <td>NaN</td>\n",
       "      <td>NaN</td>\n",
       "      <td>NaN</td>\n",
       "      <td>NaN</td>\n",
       "    </tr>\n",
       "    <tr>\n",
       "      <th>129</th>\n",
       "      <td>12/1/2021</td>\n",
       "      <td>Panama</td>\n",
       "      <td>477,742</td>\n",
       "      <td>NaN</td>\n",
       "      <td>7,365</td>\n",
       "      <td>NaN</td>\n",
       "      <td>467,826</td>\n",
       "      <td>NaN</td>\n",
       "      <td>2,551</td>\n",
       "      <td>20</td>\n",
       "      <td>...</td>\n",
       "      <td>4,236,620</td>\n",
       "      <td>960,552</td>\n",
       "      <td>4,410,610</td>\n",
       "      <td>North America</td>\n",
       "      <td>9</td>\n",
       "      <td>599</td>\n",
       "      <td>1.0</td>\n",
       "      <td>NaN</td>\n",
       "      <td>NaN</td>\n",
       "      <td>578</td>\n",
       "    </tr>\n",
       "  </tbody>\n",
       "</table>\n",
       "<p>130 rows × 22 columns</p>\n",
       "</div>"
      ],
      "text/plain": [
       "          Date Country,Other  TotalCases NewCases TotalDeaths NewDeaths  \\\n",
       "0          NaN           NaN         NaN      NaN         NaN       NaN   \n",
       "1    12/1/2021           USA  49,428,913      NaN     803,045       NaN   \n",
       "2          NaN           NaN         NaN      NaN         NaN       NaN   \n",
       "3    12/1/2021         India  34,596,776      NaN     469,247       NaN   \n",
       "4          NaN           NaN         NaN      NaN         NaN       NaN   \n",
       "..         ...           ...         ...      ...         ...       ...   \n",
       "125  12/1/2021       Myanmar     522,402      NaN      19,104       NaN   \n",
       "126        NaN           NaN         NaN      NaN         NaN       NaN   \n",
       "127  12/1/2021       Denmark     487,401      NaN       2,895       NaN   \n",
       "128        NaN           NaN         NaN      NaN         NaN       NaN   \n",
       "129  12/1/2021        Panama     477,742      NaN       7,365       NaN   \n",
       "\n",
       "    TotalRecovered NewRecovered ActiveCases Serious,Critical  ...  \\\n",
       "0              NaN          NaN         NaN              NaN  ...   \n",
       "1       39,205,902          NaN   9,419,966           13,201  ...   \n",
       "2              NaN          NaN         NaN              NaN  ...   \n",
       "3       34,028,506       10,207      99,023            8,944  ...   \n",
       "4              NaN          NaN         NaN              NaN  ...   \n",
       "..             ...          ...         ...              ...  ...   \n",
       "125        497,249          NaN       6,049              NaN  ...   \n",
       "126            NaN          NaN         NaN              NaN  ...   \n",
       "127        403,118          NaN      81,388               60  ...   \n",
       "128            NaN          NaN         NaN              NaN  ...   \n",
       "129        467,826          NaN       2,551               20  ...   \n",
       "\n",
       "      TotalTests Tests/1M pop     Population      Continent 1 Caseevery X ppl  \\\n",
       "0            NaN          NaN            NaN            NaN               NaN   \n",
       "1    753,993,369    2,259,195    333,744,223  North America                 7   \n",
       "2            NaN          NaN            NaN            NaN               NaN   \n",
       "3    642,412,315      459,141  1,399,161,383           Asia                40   \n",
       "4            NaN          NaN            NaN            NaN               NaN   \n",
       "..           ...          ...            ...            ...               ...   \n",
       "125    5,583,908      101,664     54,924,965           Asia               105   \n",
       "126          NaN          NaN            NaN            NaN               NaN   \n",
       "127   93,815,873   16,116,747      5,821,018         Europe                12   \n",
       "128          NaN          NaN            NaN            NaN               NaN   \n",
       "129    4,236,620      960,552      4,410,610  North America                 9   \n",
       "\n",
       "    1 Deathevery X ppl 1 Testevery X ppl New Cases/1M pop  New Deaths/1M pop  \\\n",
       "0                  NaN               NaN              NaN                NaN   \n",
       "1                  416               0.0              NaN                NaN   \n",
       "2                  NaN               NaN              NaN                NaN   \n",
       "3                2,982               2.0              NaN                NaN   \n",
       "4                  NaN               NaN              NaN                NaN   \n",
       "..                 ...               ...              ...                ...   \n",
       "125              2,875              10.0              NaN                NaN   \n",
       "126                NaN               NaN              NaN                NaN   \n",
       "127              2,011               0.0              NaN                NaN   \n",
       "128                NaN               NaN              NaN                NaN   \n",
       "129                599               1.0              NaN                NaN   \n",
       "\n",
       "    Active Cases/1M pop  \n",
       "0                   NaN  \n",
       "1                28,225  \n",
       "2                   NaN  \n",
       "3                    71  \n",
       "4                   NaN  \n",
       "..                  ...  \n",
       "125                 110  \n",
       "126                 NaN  \n",
       "127              13,982  \n",
       "128                 NaN  \n",
       "129                 578  \n",
       "\n",
       "[130 rows x 22 columns]"
      ]
     },
     "execution_count": 136,
     "metadata": {},
     "output_type": "execute_result"
    }
   ],
   "source": [
    "data_covid[0:130]"
   ]
  },
  {
   "cell_type": "markdown",
   "id": "cdd901ae",
   "metadata": {},
   "source": [
    "#### a. Kiểm tra bị null (missing value)"
   ]
  },
  {
   "cell_type": "code",
   "execution_count": 137,
   "id": "0773c8ce",
   "metadata": {},
   "outputs": [],
   "source": [
    "def checkMissingData():\n",
    "    for column in data_covid.columns:\n",
    "        count = 0\n",
    "        for i in data_covid[column]:\n",
    "            try:\n",
    "                if (np.isnan(i)):\n",
    "                    count = count + 1\n",
    "            except:\n",
    "                None\n",
    "        print(\"Số lượng thông tin bị thiếu trong thuộc tính \", column, \":\",count)\n",
    "        print(\"Chiếm tỉ lệ phần trăm:\", round(count/data_covid.shape[0] * 100, 3),\"%\")\n",
    "        print()"
   ]
  },
  {
   "cell_type": "code",
   "execution_count": 138,
   "id": "ba50ca94",
   "metadata": {},
   "outputs": [
    {
     "name": "stdout",
     "output_type": "stream",
     "text": [
      "Số lượng thông tin bị thiếu trong thuộc tính  Date : 1568\n",
      "Chiếm tỉ lệ phần trăm: 50.0 %\n",
      "\n",
      "Số lượng thông tin bị thiếu trong thuộc tính  Country,Other : 1568\n",
      "Chiếm tỉ lệ phần trăm: 50.0 %\n",
      "\n",
      "Số lượng thông tin bị thiếu trong thuộc tính  TotalCases : 1568\n",
      "Chiếm tỉ lệ phần trăm: 50.0 %\n",
      "\n",
      "Số lượng thông tin bị thiếu trong thuộc tính  NewCases : 2129\n",
      "Chiếm tỉ lệ phần trăm: 67.889 %\n",
      "\n",
      "Số lượng thông tin bị thiếu trong thuộc tính  TotalDeaths : 1568\n",
      "Chiếm tỉ lệ phần trăm: 50.0 %\n",
      "\n",
      "Số lượng thông tin bị thiếu trong thuộc tính  NewDeaths : 2455\n",
      "Chiếm tỉ lệ phần trăm: 78.284 %\n",
      "\n",
      "Số lượng thông tin bị thiếu trong thuộc tính  TotalRecovered : 1618\n",
      "Chiếm tỉ lệ phần trăm: 51.594 %\n",
      "\n",
      "Số lượng thông tin bị thiếu trong thuộc tính  NewRecovered : 2240\n",
      "Chiếm tỉ lệ phần trăm: 71.429 %\n",
      "\n",
      "Số lượng thông tin bị thiếu trong thuộc tính  ActiveCases : 1618\n",
      "Chiếm tỉ lệ phần trăm: 51.594 %\n",
      "\n",
      "Số lượng thông tin bị thiếu trong thuộc tính  Serious,Critical : 2049\n",
      "Chiếm tỉ lệ phần trăm: 65.338 %\n",
      "\n",
      "Số lượng thông tin bị thiếu trong thuộc tính  TotCases/1M pop : 1582\n",
      "Chiếm tỉ lệ phần trăm: 50.446 %\n",
      "\n",
      "Số lượng thông tin bị thiếu trong thuộc tính  Deaths/1M pop : 1666\n",
      "Chiếm tỉ lệ phần trăm: 53.125 %\n",
      "\n",
      "Số lượng thông tin bị thiếu trong thuộc tính  TotalTests : 1673\n",
      "Chiếm tỉ lệ phần trăm: 53.348 %\n",
      "\n",
      "Số lượng thông tin bị thiếu trong thuộc tính  Tests/1M pop : 1673\n",
      "Chiếm tỉ lệ phần trăm: 53.348 %\n",
      "\n",
      "Số lượng thông tin bị thiếu trong thuộc tính  Population : 1568\n",
      "Chiếm tỉ lệ phần trăm: 50.0 %\n",
      "\n",
      "Số lượng thông tin bị thiếu trong thuộc tính  Continent : 1582\n",
      "Chiếm tỉ lệ phần trăm: 50.446 %\n",
      "\n",
      "Số lượng thông tin bị thiếu trong thuộc tính  1 Caseevery X ppl : 1582\n",
      "Chiếm tỉ lệ phần trăm: 50.446 %\n",
      "\n",
      "Số lượng thông tin bị thiếu trong thuộc tính  1 Deathevery X ppl : 1666\n",
      "Chiếm tỉ lệ phần trăm: 53.125 %\n",
      "\n",
      "Số lượng thông tin bị thiếu trong thuộc tính  1 Testevery X ppl : 1673\n",
      "Chiếm tỉ lệ phần trăm: 53.348 %\n",
      "\n",
      "Số lượng thông tin bị thiếu trong thuộc tính  New Cases/1M pop : 2129\n",
      "Chiếm tỉ lệ phần trăm: 67.889 %\n",
      "\n",
      "Số lượng thông tin bị thiếu trong thuộc tính  New Deaths/1M pop : 2457\n",
      "Chiếm tỉ lệ phần trăm: 78.348 %\n",
      "\n",
      "Số lượng thông tin bị thiếu trong thuộc tính  Active Cases/1M pop : 1658\n",
      "Chiếm tỉ lệ phần trăm: 52.87 %\n",
      "\n"
     ]
    }
   ],
   "source": [
    "checkMissingData()"
   ]
  },
  {
   "cell_type": "markdown",
   "id": "c9b9a110",
   "metadata": {},
   "source": [
    "#### Đánh giá về dữ liệu\n",
    "- Sau khi liệt kê các thuộc tính để kiểm tra phần trăm số lượng bị thiếu thông tin, ta thấy đa số các cột thuộc tính bị thiếu dữ liệu chỉ có 5 thuộc tính là đầy đủ dữ liệu , số lượng thuộc tính thiếu trên 30% tương đối lớn"
   ]
  },
  {
   "cell_type": "markdown",
   "id": "a5183482",
   "metadata": {},
   "source": [
    "###### Giải quyết vấn đề bị thiếu dữ liệu: \n",
    "- Ta thấy các thuộc tính như ```New Cases/1M pop```, ```New Deaths/1M pop```, ```NewRecovered```, ```NewDeaths```, ```Serious,Critical```, ```NewCases``` có tỉ lệ phần trăm thiếu dữ liệu lớn hơn 30% , đồng thời ta thấy được thuộc tính đó không đóng góp nhiều vào quá trình phân tích và thống kê nên ta sẽ chọn phương án là loại bỏ các thuộc tính đó"
   ]
  },
  {
   "cell_type": "code",
   "execution_count": 139,
   "id": "977114f5",
   "metadata": {},
   "outputs": [],
   "source": [
    "data_covid = data_covid.drop(columns=[\"New Cases/1M pop\", \"NewRecovered\", \"NewDeaths\", \"New Deaths/1M pop\", \"Serious,Critical\", \"NewCases\"])"
   ]
  },
  {
   "cell_type": "markdown",
   "id": "3de4f2a9",
   "metadata": {},
   "source": [
    "- Ta thấy các thuộc tính như ```TotalTests```, ```Tests/1M pop``` , ```1 Testevery X ppl``` có tỉ lệ phần trăm như nhau = 6.696% , ta có thể đưa ra giả thiết: ```các sample thiếu dữ dữ liệu là một```, ta sẽ tiến hành kiếm tra"
   ]
  },
  {
   "cell_type": "code",
   "execution_count": 140,
   "id": "64b5e9aa",
   "metadata": {},
   "outputs": [
    {
     "name": "stdout",
     "output_type": "stream",
     "text": [
      "TotalTests:  {nan, 'Seychelles', 'Tanzania', 'Tajikistan', 'Vatican City', 'Micronesia', 'French Polynesia', 'Saint Helena', 'Comoros', 'MS Zaandam', 'Western Sahara', 'Samoa', 'Diamond Princess', 'Marshall Islands', 'Nicaragua', 'Tonga'}\n",
      "\n",
      "Tests1Mpop:  {nan, 'Seychelles', 'Tanzania', 'Tajikistan', 'Vatican City', 'Micronesia', 'French Polynesia', 'Saint Helena', 'Comoros', 'MS Zaandam', 'Western Sahara', 'Samoa', 'Diamond Princess', 'Marshall Islands', 'Nicaragua', 'Tonga'}\n",
      "\n",
      "1TesteveryXppl:  {nan, 'Seychelles', 'Tanzania', 'Tajikistan', 'Vatican City', 'Micronesia', 'French Polynesia', 'Saint Helena', 'Comoros', 'MS Zaandam', 'Western Sahara', 'Samoa', 'Diamond Princess', 'Marshall Islands', 'Nicaragua', 'Tonga'}\n"
     ]
    }
   ],
   "source": [
    "country_TotalTests = []\n",
    "country_Tests1Mpop = []\n",
    "country_1TesteveryXppl = []\n",
    "\n",
    "for i in range(0, len(data_covid[\"TotalTests\"])):\n",
    "    try:\n",
    "        if (np.isnan(data_covid[\"TotalTests\"][i])):\n",
    "            country_TotalTests.append(data_covid.loc[i, \"Country,Other\"])\n",
    "    except:\n",
    "        None\n",
    "    \n",
    "    try:\n",
    "        if (np.isnan(data_covid[\"Tests/1M pop\"][i])):\n",
    "            country_Tests1Mpop.append(data_covid.loc[i, \"Country,Other\"])\n",
    "    except:\n",
    "        None\n",
    "    \n",
    "    try:\n",
    "        if (np.isnan(data_covid[\"1 Testevery X ppl\"][i])):\n",
    "            country_1TesteveryXppl.append(data_covid.loc[i, \"Country,Other\"])\n",
    "    except:\n",
    "        None\n",
    "country_TotalTests = set(country_TotalTests)\n",
    "country_Tests1Mpop = set(country_Tests1Mpop)\n",
    "country_1TesteveryXppl = set(country_1TesteveryXppl)\n",
    "\n",
    "print(\"TotalTests: \", country_TotalTests)\n",
    "print()\n",
    "print(\"Tests1Mpop: \", country_Tests1Mpop)\n",
    "print()\n",
    "print(\"1TesteveryXppl: \", country_1TesteveryXppl)"
   ]
  },
  {
   "cell_type": "markdown",
   "id": "c04c982f",
   "metadata": {},
   "source": [
    "**Đánh giá:** \n",
    "- Vì các nước đều như nhau giống với giả thiết ban đầu, đồng thời mục đích ban đầu ta sẽ phân tích các nước đông có tỉ lệ bị nhiễm covid cao, qua quan sát ta thấy các nước liệt kê trên là nước nhỏ với tỉ lệ dân số thấp đồng thời chứa các sample như ```Diamond Princess```, ```MS Zaandam```... là các tàu chở bệnh nhân bị covid , nó không phải là 1 quốc gia. Ta xem chúng thuộc dạng outlier. Nên ta sẽ quyết định loại bỏ các sample được liệt kê ở trên"
   ]
  },
  {
   "cell_type": "code",
   "execution_count": 141,
   "id": "c9ec6c11",
   "metadata": {},
   "outputs": [
    {
     "name": "stdout",
     "output_type": "stream",
     "text": [
      "Số sample và thuộc tính còn lại: (1463, 16)\n"
     ]
    }
   ],
   "source": [
    "dr = []\n",
    "for i in range(0, len(data_covid[\"TotalTests\"])):\n",
    "    if (data_covid[\"Country,Other\"][i] in country_1TesteveryXppl):\n",
    "        dr.append(i)\n",
    "\n",
    "data_covid = data_covid.drop(dr, axis=0)\n",
    "print(\"Số sample và thuộc tính còn lại:\", data_covid.shape)"
   ]
  },
  {
   "cell_type": "markdown",
   "id": "c28b86c5",
   "metadata": {},
   "source": [
    "- **Kiểm tra thông tin bị thiếu**"
   ]
  },
  {
   "cell_type": "code",
   "execution_count": 142,
   "id": "b0b9fb8b",
   "metadata": {},
   "outputs": [
    {
     "name": "stdout",
     "output_type": "stream",
     "text": [
      "Số lượng thông tin bị thiếu trong thuộc tính  Date : 0\n",
      "Chiếm tỉ lệ phần trăm: 0.0 %\n",
      "\n",
      "Số lượng thông tin bị thiếu trong thuộc tính  Country,Other : 0\n",
      "Chiếm tỉ lệ phần trăm: 0.0 %\n",
      "\n",
      "Số lượng thông tin bị thiếu trong thuộc tính  TotalCases : 0\n",
      "Chiếm tỉ lệ phần trăm: 0.0 %\n",
      "\n",
      "Số lượng thông tin bị thiếu trong thuộc tính  TotalDeaths : 0\n",
      "Chiếm tỉ lệ phần trăm: 0.0 %\n",
      "\n",
      "Số lượng thông tin bị thiếu trong thuộc tính  TotalRecovered : 36\n",
      "Chiếm tỉ lệ phần trăm: 2.461 %\n",
      "\n",
      "Số lượng thông tin bị thiếu trong thuộc tính  ActiveCases : 36\n",
      "Chiếm tỉ lệ phần trăm: 2.461 %\n",
      "\n",
      "Số lượng thông tin bị thiếu trong thuộc tính  TotCases/1M pop : 0\n",
      "Chiếm tỉ lệ phần trăm: 0.0 %\n",
      "\n",
      "Số lượng thông tin bị thiếu trong thuộc tính  Deaths/1M pop : 42\n",
      "Chiếm tỉ lệ phần trăm: 2.871 %\n",
      "\n",
      "Số lượng thông tin bị thiếu trong thuộc tính  TotalTests : 0\n",
      "Chiếm tỉ lệ phần trăm: 0.0 %\n",
      "\n",
      "Số lượng thông tin bị thiếu trong thuộc tính  Tests/1M pop : 0\n",
      "Chiếm tỉ lệ phần trăm: 0.0 %\n",
      "\n",
      "Số lượng thông tin bị thiếu trong thuộc tính  Population : 0\n",
      "Chiếm tỉ lệ phần trăm: 0.0 %\n",
      "\n",
      "Số lượng thông tin bị thiếu trong thuộc tính  Continent : 0\n",
      "Chiếm tỉ lệ phần trăm: 0.0 %\n",
      "\n",
      "Số lượng thông tin bị thiếu trong thuộc tính  1 Caseevery X ppl : 0\n",
      "Chiếm tỉ lệ phần trăm: 0.0 %\n",
      "\n",
      "Số lượng thông tin bị thiếu trong thuộc tính  1 Deathevery X ppl : 42\n",
      "Chiếm tỉ lệ phần trăm: 2.871 %\n",
      "\n",
      "Số lượng thông tin bị thiếu trong thuộc tính  1 Testevery X ppl : 0\n",
      "Chiếm tỉ lệ phần trăm: 0.0 %\n",
      "\n",
      "Số lượng thông tin bị thiếu trong thuộc tính  Active Cases/1M pop : 34\n",
      "Chiếm tỉ lệ phần trăm: 2.324 %\n",
      "\n"
     ]
    }
   ],
   "source": [
    "checkMissingData()"
   ]
  },
  {
   "cell_type": "markdown",
   "id": "9440d733",
   "metadata": {},
   "source": [
    "#### b. Kiểm tra kiểu dữ liệu trong mỗi thuộc tính"
   ]
  },
  {
   "cell_type": "code",
   "execution_count": 143,
   "id": "f68485d2",
   "metadata": {},
   "outputs": [
    {
     "name": "stdout",
     "output_type": "stream",
     "text": [
      "<class 'pandas.core.frame.DataFrame'>\n",
      "Int64Index: 1463 entries, 1 to 3125\n",
      "Data columns (total 16 columns):\n",
      " #   Column               Non-Null Count  Dtype  \n",
      "---  ------               --------------  -----  \n",
      " 0   Date                 1463 non-null   object \n",
      " 1   Country,Other        1463 non-null   object \n",
      " 2   TotalCases           1463 non-null   object \n",
      " 3   TotalDeaths          1463 non-null   object \n",
      " 4   TotalRecovered       1427 non-null   object \n",
      " 5   ActiveCases          1427 non-null   object \n",
      " 6   TotCases/1M pop      1463 non-null   object \n",
      " 7   Deaths/1M pop        1421 non-null   object \n",
      " 8   TotalTests           1463 non-null   object \n",
      " 9   Tests/1M pop         1463 non-null   object \n",
      " 10  Population           1463 non-null   object \n",
      " 11  Continent            1463 non-null   object \n",
      " 12  1 Caseevery X ppl    1463 non-null   object \n",
      " 13  1 Deathevery X ppl   1421 non-null   object \n",
      " 14  1 Testevery X ppl    1463 non-null   float64\n",
      " 15  Active Cases/1M pop  1429 non-null   object \n",
      "dtypes: float64(1), object(15)\n",
      "memory usage: 194.3+ KB\n"
     ]
    }
   ],
   "source": [
    "data_covid.info()"
   ]
  },
  {
   "cell_type": "markdown",
   "id": "b4e50cd2",
   "metadata": {},
   "source": [
    "- **Đánh giá**: ta thấy đươc đa số các cột thuộc tính đều thuộc dạng object , ta cần chuyển đổi cột thuộc tính sang đúng dạng của chúng\n",
    "  + Loại ```string```: Country,Other, Continent\n",
    "  + Loại ```datetime```: Date\n",
    "  + Loại ```float```: Tot Cases/1M pop, Deaths/1M pop, Tests/1M pop, 1 Caseevery X ppl, 1 Deathevery X ppl, 1 Testevery X ppl\n",
    "  + Loại ```int```: Active Cases/1M pop, TotalCases, TotalDeaths, TotalRecoverd, ActiveCases, Population, TotalTests"
   ]
  },
  {
   "cell_type": "markdown",
   "id": "adfb72cc",
   "metadata": {},
   "source": [
    "- Chuyển đổi loại datetime"
   ]
  },
  {
   "cell_type": "code",
   "execution_count": 144,
   "id": "4325f67b",
   "metadata": {},
   "outputs": [],
   "source": [
    "data_covid[\"Date\"] = pd.to_datetime(data_covid[\"Date\"])"
   ]
  },
  {
   "cell_type": "markdown",
   "id": "ccd88a03",
   "metadata": {},
   "source": [
    "- Chuyển đổi sang string"
   ]
  },
  {
   "cell_type": "code",
   "execution_count": 145,
   "id": "4b95db94",
   "metadata": {},
   "outputs": [],
   "source": [
    "data_covid[\"Country,Other\"] = data_covid[\"Country,Other\"].astype('string')\n",
    "data_covid[\"Continent\"] = data_covid[\"Continent\"].astype('string')"
   ]
  },
  {
   "cell_type": "markdown",
   "id": "2ee7757a",
   "metadata": {},
   "source": [
    "- Chuyển đổi object sang float"
   ]
  },
  {
   "cell_type": "code",
   "execution_count": 146,
   "id": "ad73e1fe",
   "metadata": {},
   "outputs": [],
   "source": [
    "col = [\"Active Cases/1M pop\", \"1 Deathevery X ppl\", \"1 Caseevery X ppl\", \"Tests/1M pop\", \"Deaths/1M pop\", \"TotCases/1M pop\"]\n",
    "for c in col:\n",
    "    data_covid[c] = data_covid[c].astype(str)\n",
    "    data_covid[c] = data_covid[c].str.replace(',', '')\n",
    "    data_covid[c] = data_covid[c].astype(float)"
   ]
  },
  {
   "cell_type": "markdown",
   "id": "c54f181c",
   "metadata": {},
   "source": [
    "- Chuyển đổi sang int"
   ]
  },
  {
   "cell_type": "code",
   "execution_count": 147,
   "id": "9e325204",
   "metadata": {},
   "outputs": [],
   "source": [
    "col1 = [\"TotalTests\", \"Population\", \"TotalCases\", \"TotalDeaths\", \"ActiveCases\", \"TotalRecovered\"]\n",
    "\n",
    "for c in col1:\n",
    "    data_covid[c] = data_covid[c].astype(str)\n",
    "    data_covid[c] = data_covid[c].str.replace(',', '')\n",
    "    data_covid[c] = pd.to_numeric(data_covid[c], errors='coerce').astype('Int64') "
   ]
  },
  {
   "cell_type": "code",
   "execution_count": 148,
   "id": "3b151388",
   "metadata": {},
   "outputs": [
    {
     "name": "stdout",
     "output_type": "stream",
     "text": [
      "<class 'pandas.core.frame.DataFrame'>\n",
      "Int64Index: 1463 entries, 1 to 3125\n",
      "Data columns (total 16 columns):\n",
      " #   Column               Non-Null Count  Dtype         \n",
      "---  ------               --------------  -----         \n",
      " 0   Date                 1463 non-null   datetime64[ns]\n",
      " 1   Country,Other        1463 non-null   string        \n",
      " 2   TotalCases           1463 non-null   Int64         \n",
      " 3   TotalDeaths          1421 non-null   Int64         \n",
      " 4   TotalRecovered       1427 non-null   Int64         \n",
      " 5   ActiveCases          1427 non-null   Int64         \n",
      " 6   TotCases/1M pop      1463 non-null   float64       \n",
      " 7   Deaths/1M pop        1421 non-null   float64       \n",
      " 8   TotalTests           1463 non-null   Int64         \n",
      " 9   Tests/1M pop         1463 non-null   float64       \n",
      " 10  Population           1463 non-null   Int64         \n",
      " 11  Continent            1463 non-null   string        \n",
      " 12  1 Caseevery X ppl    1463 non-null   float64       \n",
      " 13  1 Deathevery X ppl   1421 non-null   float64       \n",
      " 14  1 Testevery X ppl    1463 non-null   float64       \n",
      " 15  Active Cases/1M pop  1429 non-null   float64       \n",
      "dtypes: Int64(6), datetime64[ns](1), float64(7), string(2)\n",
      "memory usage: 202.9 KB\n"
     ]
    }
   ],
   "source": [
    "data_covid.info()"
   ]
  },
  {
   "cell_type": "markdown",
   "id": "d6c63423",
   "metadata": {},
   "source": [
    "#### C. Sắp xếp lại dữ liệu"
   ]
  },
  {
   "cell_type": "code",
   "execution_count": 149,
   "id": "7792f7d8",
   "metadata": {},
   "outputs": [
    {
     "ename": "TypeError",
     "evalue": "'NoneType' object is not subscriptable",
     "output_type": "error",
     "traceback": [
      "\u001b[1;31m---------------------------------------------------------------------------\u001b[0m",
      "\u001b[1;31mTypeError\u001b[0m                                 Traceback (most recent call last)",
      "\u001b[1;32m<ipython-input-149-ed70e0a2198f>\u001b[0m in \u001b[0;36m<module>\u001b[1;34m\u001b[0m\n\u001b[0;32m      3\u001b[0m \u001b[1;33m\u001b[0m\u001b[0m\n\u001b[0;32m      4\u001b[0m \u001b[1;33m\u001b[0m\u001b[0m\n\u001b[1;32m----> 5\u001b[1;33m \u001b[0mdata_covid\u001b[0m\u001b[1;33m[\u001b[0m\u001b[1;36m0\u001b[0m\u001b[1;33m:\u001b[0m\u001b[1;36m49\u001b[0m\u001b[1;33m]\u001b[0m\u001b[1;33m\u001b[0m\u001b[1;33m\u001b[0m\u001b[0m\n\u001b[0m",
      "\u001b[1;31mTypeError\u001b[0m: 'NoneType' object is not subscriptable"
     ]
    }
   ],
   "source": [
    "data_covid = data_covid.sort_values(['Country,Other'])\n",
    "data_covid = data_covid.reset_index(drop=True)\n",
    "\n",
    "\n",
    "data_covid[0:49]"
   ]
  },
  {
   "cell_type": "code",
   "execution_count": null,
   "id": "0321f2f5",
   "metadata": {},
   "outputs": [],
   "source": []
  }
 ],
 "metadata": {
  "kernelspec": {
   "display_name": "Python 3",
   "language": "python",
   "name": "python3"
  },
  "language_info": {
   "codemirror_mode": {
    "name": "ipython",
    "version": 3
   },
   "file_extension": ".py",
   "mimetype": "text/x-python",
   "name": "python",
   "nbconvert_exporter": "python",
   "pygments_lexer": "ipython3",
   "version": "3.8.8"
  }
 },
 "nbformat": 4,
 "nbformat_minor": 5
}
